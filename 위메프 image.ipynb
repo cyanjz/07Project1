{
 "cells": [
  {
   "cell_type": "code",
   "execution_count": null,
   "id": "4f803f62",
   "metadata": {},
   "outputs": [],
   "source": [
    "from requests import request,get,post\n",
    "from bs4 import BeautifulSoup\n",
    "import re"
   ]
  },
  {
   "cell_type": "code",
   "execution_count": null,
   "id": "51551ed5",
   "metadata": {},
   "outputs": [],
   "source": [
    "headers={'user-agent':'Mozilla/5.0 (Windows NT 10.0; Win64; x64) AppleWebKit/537.36 (KHTML, like Gecko) Chrome/105.0.0.0 Safari/537.36 Edg/105.0.1343.33'}"
   ]
  },
  {
   "cell_type": "code",
   "execution_count": null,
   "id": "992b9917",
   "metadata": {},
   "outputs": [],
   "source": [
    "seed='https://search.wemakeprice.com/api/wmpsearch/api/v3.0/wmp-search/search.json'\n",
    "params={\n",
    "'searchType': 'DEFAULT',\n",
    "'search_cate': 'top',\n",
    "'keyword': None,\n",
    "'isRec': 1,\n",
    "'_service': 5,\n",
    "'_type': 3,\n",
    "'page': None\n",
    "}\n",
    "\n",
    "params['keyword']=input('검색어:')\n",
    "cate=int(input('카테고리 번호:'))\n",
    "params['page']=1\n",
    "\n",
    "while params['page']!=None:\n",
    "    resp=get(seed,params=params,headers=headers)\n",
    "    resp.headers\n",
    "    dom=BeautifulSoup(resp.text,'html.parser')\n",
    "    temp=resp.json()\n",
    "    i=1\n",
    "    for _ in temp['data']['deals']:\n",
    "        url=_['largeImgUrl']\n",
    "        urlresp=get(url)\n",
    "        j=(params['page']-1)*82+i\n",
    "        fileName=f'{cate}-{j}'+'.jpg'\n",
    "        with open('./bed1/'+fileName,'wb') as fp:\n",
    "            fp.write(urlresp.content)\n",
    "        i+=1\n",
    "    params['page']+=1"
   ]
  }
 ],
 "metadata": {
  "kernelspec": {
   "display_name": "Python 3 (ipykernel)",
   "language": "python",
   "name": "python3"
  },
  "language_info": {
   "codemirror_mode": {
    "name": "ipython",
    "version": 3
   },
   "file_extension": ".py",
   "mimetype": "text/x-python",
   "name": "python",
   "nbconvert_exporter": "python",
   "pygments_lexer": "ipython3",
   "version": "3.9.12"
  }
 },
 "nbformat": 4,
 "nbformat_minor": 5
}
