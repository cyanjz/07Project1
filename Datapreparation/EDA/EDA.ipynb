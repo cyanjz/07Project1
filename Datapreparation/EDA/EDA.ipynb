{
 "cells": [
  {
   "cell_type": "code",
   "execution_count": 4,
   "outputs": [],
   "source": [
    "import seaborn as sns\n",
    "import numpy as np\n",
    "import pandas as pd\n",
    "from Getclasses import get_label_dict"
   ],
   "metadata": {
    "collapsed": false,
    "pycharm": {
     "name": "#%%\n"
    }
   }
  },
  {
   "cell_type": "code",
   "execution_count": 5,
   "metadata": {
    "collapsed": true,
    "pycharm": {
     "name": "#%%\n"
    }
   },
   "outputs": [
    {
     "ename": "FileNotFoundError",
     "evalue": "[WinError 3] 지정된 경로를 찾을 수 없습니다: 'C:\\\\workplace\\\\SW_academy\\\\project1\\\\Data\\\\1bed_label/'",
     "output_type": "error",
     "traceback": [
      "\u001B[1;31m---------------------------------------------------------------------------\u001B[0m",
      "\u001B[1;31mFileNotFoundError\u001B[0m                         Traceback (most recent call last)",
      "Cell \u001B[1;32mIn[5], line 1\u001B[0m\n\u001B[1;32m----> 1\u001B[0m bed \u001B[38;5;241m=\u001B[39m pd\u001B[38;5;241m.\u001B[39mDataFrame(\u001B[43mget_label_dict\u001B[49m\u001B[43m(\u001B[49m\u001B[38;5;124;43mr\u001B[39;49m\u001B[38;5;124;43m'\u001B[39;49m\u001B[38;5;124;43mC:\u001B[39;49m\u001B[38;5;124;43m\\\u001B[39;49m\u001B[38;5;124;43mworkplace\u001B[39;49m\u001B[38;5;124;43m\\\u001B[39;49m\u001B[38;5;124;43mSW_academy\u001B[39;49m\u001B[38;5;124;43m\\\u001B[39;49m\u001B[38;5;124;43mproject1\u001B[39;49m\u001B[38;5;124;43m\\\u001B[39;49m\u001B[38;5;124;43mData\u001B[39;49m\u001B[38;5;124;43m\\\u001B[39;49m\u001B[38;5;124;43m1bed_label\u001B[39;49m\u001B[38;5;124;43m'\u001B[39;49m\u001B[43m)\u001B[49m)\n\u001B[0;32m      2\u001B[0m chair \u001B[38;5;241m=\u001B[39m pd\u001B[38;5;241m.\u001B[39mDataFrame(get_label_dict(\u001B[38;5;124mr\u001B[39m\u001B[38;5;124m'\u001B[39m\u001B[38;5;124mC:\u001B[39m\u001B[38;5;124m\\\u001B[39m\u001B[38;5;124mworkplace\u001B[39m\u001B[38;5;124m\\\u001B[39m\u001B[38;5;124mSW_academy\u001B[39m\u001B[38;5;124m\\\u001B[39m\u001B[38;5;124mproject1\u001B[39m\u001B[38;5;124m\\\u001B[39m\u001B[38;5;124mData\u001B[39m\u001B[38;5;124m\\\u001B[39m\u001B[38;5;124m1bed_label\u001B[39m\u001B[38;5;124m'\u001B[39m))\n",
      "File \u001B[1;32mD:\\Workspace\\SW_academy\\Project1\\Codes\\Datapreparation\\EDA\\Getclasses.py:16\u001B[0m, in \u001B[0;36mget_label_dict\u001B[1;34m(label_path)\u001B[0m\n\u001B[0;32m     14\u001B[0m \u001B[38;5;28;01mif\u001B[39;00m \u001B[38;5;129;01mnot\u001B[39;00m label_path\u001B[38;5;241m.\u001B[39mendswith(\u001B[38;5;124m'\u001B[39m\u001B[38;5;124m/\u001B[39m\u001B[38;5;124m'\u001B[39m):\n\u001B[0;32m     15\u001B[0m     label_path \u001B[38;5;241m=\u001B[39m label_path \u001B[38;5;241m+\u001B[39m \u001B[38;5;124m'\u001B[39m\u001B[38;5;124m/\u001B[39m\u001B[38;5;124m'\u001B[39m\n\u001B[1;32m---> 16\u001B[0m files \u001B[38;5;241m=\u001B[39m [label_path \u001B[38;5;241m+\u001B[39m \u001B[38;5;124m'\u001B[39m\u001B[38;5;130;01m\\\\\u001B[39;00m\u001B[38;5;124m'\u001B[39m \u001B[38;5;241m+\u001B[39m p \u001B[38;5;28;01mfor\u001B[39;00m p \u001B[38;5;129;01min\u001B[39;00m \u001B[43mlistdir\u001B[49m\u001B[43m(\u001B[49m\u001B[43mlabel_path\u001B[49m\u001B[43m)\u001B[49m]\n\u001B[0;32m     17\u001B[0m \u001B[38;5;28;01mfor\u001B[39;00m fil \u001B[38;5;129;01min\u001B[39;00m files:\n\u001B[0;32m     18\u001B[0m     \u001B[38;5;28;01mwith\u001B[39;00m \u001B[38;5;28mopen\u001B[39m(fil, \u001B[38;5;124m'\u001B[39m\u001B[38;5;124mr\u001B[39m\u001B[38;5;124m'\u001B[39m) \u001B[38;5;28;01mas\u001B[39;00m fp:\n",
      "\u001B[1;31mFileNotFoundError\u001B[0m: [WinError 3] 지정된 경로를 찾을 수 없습니다: 'C:\\\\workplace\\\\SW_academy\\\\project1\\\\Data\\\\1bed_label/'"
     ]
    }
   ],
   "source": [
    "bed = pd.DataFrame(get_label_dict(r'C:\\workplace\\SW_academy\\project1\\Data\\1bed_label'))\n",
    "chair = pd.DataFrame(get_label_dict(r'C:\\workplace\\SW_academy\\project1\\Data\\1bed_label'))"
   ]
  },
  {
   "cell_type": "code",
   "execution_count": null,
   "outputs": [],
   "source": [],
   "metadata": {
    "collapsed": false,
    "pycharm": {
     "name": "#%%\n"
    }
   }
  },
  {
   "cell_type": "code",
   "execution_count": 1,
   "outputs": [
    {
     "ename": "NameError",
     "evalue": "name 'sns' is not defined",
     "output_type": "error",
     "traceback": [
      "\u001B[1;31m---------------------------------------------------------------------------\u001B[0m",
      "\u001B[1;31mNameError\u001B[0m                                 Traceback (most recent call last)",
      "Cell \u001B[1;32mIn[1], line 1\u001B[0m\n\u001B[1;32m----> 1\u001B[0m \u001B[43msns\u001B[49m\u001B[38;5;241m.\u001B[39mhistplot(bed[\u001B[38;5;124m'\u001B[39m\u001B[38;5;124mclasses\u001B[39m\u001B[38;5;124m'\u001B[39m])\n\u001B[0;32m      2\u001B[0m \u001B[38;5;66;03m# 18/24 classes.\u001B[39;00m\n\u001B[0;32m      3\u001B[0m \u001B[38;5;66;03m# 23 and 14 are extremely rare.\u001B[39;00m\n",
      "\u001B[1;31mNameError\u001B[0m: name 'sns' is not defined"
     ]
    }
   ],
   "source": [
    "sns.histplot(bed['classes'])\n",
    "# 18/24 classes.\n",
    "# 23 and 14 are extremely rare."
   ],
   "metadata": {
    "collapsed": false,
    "pycharm": {
     "name": "#%%\n"
    }
   }
  },
  {
   "cell_type": "code",
   "execution_count": 8,
   "outputs": [
    {
     "data": {
      "text/plain": "'0'"
     },
     "execution_count": 8,
     "metadata": {},
     "output_type": "execute_result"
    }
   ],
   "source": [
    "bed['classes'][23]"
   ],
   "metadata": {
    "collapsed": false,
    "pycharm": {
     "name": "#%%\n"
    }
   }
  },
  {
   "cell_type": "code",
   "execution_count": 9,
   "outputs": [],
   "source": [
    "pre_defined_class_bed = '''\n",
    "0000\n",
    "0010\n",
    "0020\n",
    "0001\n",
    "0011\n",
    "0021\n",
    "0100\n",
    "0110\n",
    "0120\n",
    "0101\n",
    "0111\n",
    "0121\n",
    "1000\n",
    "1010\n",
    "1020\n",
    "1001\n",
    "1011\n",
    "1021\n",
    "1100\n",
    "1110\n",
    "1120\n",
    "1101\n",
    "1111\n",
    "1121\n",
    "'''"
   ],
   "metadata": {
    "collapsed": false,
    "pycharm": {
     "name": "#%%\n"
    }
   }
  },
  {
   "cell_type": "code",
   "execution_count": 12,
   "outputs": [],
   "source": [
    "cls_dict = {str(i) : str(v) for i, v in enumerate(pre_defined_class_bed.splitlines()) if len(v) != 0}"
   ],
   "metadata": {
    "collapsed": false,
    "pycharm": {
     "name": "#%%\n"
    }
   }
  },
  {
   "cell_type": "code",
   "execution_count": 13,
   "outputs": [
    {
     "data": {
      "text/plain": "{'1': '0000',\n '2': '0010',\n '3': '0020',\n '4': '0001',\n '5': '0011',\n '6': '0021',\n '7': '0100',\n '8': '0110',\n '9': '0120',\n '10': '0101',\n '11': '0111',\n '12': '0121',\n '13': '1000',\n '14': '1010',\n '15': '1020',\n '16': '1001',\n '17': '1011',\n '18': '1021',\n '19': '1100',\n '20': '1110',\n '21': '1120',\n '22': '1101',\n '23': '1111',\n '24': '1121'}"
     },
     "execution_count": 13,
     "metadata": {},
     "output_type": "execute_result"
    }
   ],
   "source": [
    "cls_dict"
   ],
   "metadata": {
    "collapsed": false,
    "pycharm": {
     "name": "#%%\n"
    }
   }
  },
  {
   "cell_type": "code",
   "execution_count": 5,
   "outputs": [
    {
     "data": {
      "text/plain": "9     1393\n10     931\n3      824\n11     618\n7      463\n0      307\n6      252\n8      249\n21     102\n5       96\n2       95\n1       81\n15      51\n4       51\n18      40\n12      29\n23       1\n14       1\nName: classes, dtype: int64"
     },
     "execution_count": 5,
     "metadata": {},
     "output_type": "execute_result"
    }
   ],
   "source": [
    "chair['classes'].value_counts()"
   ],
   "metadata": {
    "collapsed": false,
    "pycharm": {
     "name": "#%%\n"
    }
   }
  },
  {
   "cell_type": "code",
   "execution_count": 61,
   "outputs": [
    {
     "ename": "ValueError",
     "evalue": "min() arg is an empty sequence",
     "output_type": "error",
     "traceback": [
      "\u001B[1;31m---------------------------------------------------------------------------\u001B[0m",
      "\u001B[1;31mValueError\u001B[0m                                Traceback (most recent call last)",
      "Cell \u001B[1;32mIn[61], line 1\u001B[0m\n\u001B[1;32m----> 1\u001B[0m \u001B[43msns\u001B[49m\u001B[38;5;241;43m.\u001B[39;49m\u001B[43mviolinplot\u001B[49m\u001B[43m(\u001B[49m\u001B[43mbl_dict\u001B[49m\u001B[43m)\u001B[49m\n",
      "File \u001B[1;32mC:\\workplace\\SW_academy\\project1\\venv\\lib\\site-packages\\seaborn\\categorical.py:2305\u001B[0m, in \u001B[0;36mviolinplot\u001B[1;34m(data, x, y, hue, order, hue_order, bw, cut, scale, scale_hue, gridsize, width, inner, split, dodge, orient, linewidth, color, palette, saturation, ax, **kwargs)\u001B[0m\n\u001B[0;32m   2297\u001B[0m \u001B[38;5;28;01mdef\u001B[39;00m \u001B[38;5;21mviolinplot\u001B[39m(\n\u001B[0;32m   2298\u001B[0m     data\u001B[38;5;241m=\u001B[39m\u001B[38;5;28;01mNone\u001B[39;00m, \u001B[38;5;241m*\u001B[39m, x\u001B[38;5;241m=\u001B[39m\u001B[38;5;28;01mNone\u001B[39;00m, y\u001B[38;5;241m=\u001B[39m\u001B[38;5;28;01mNone\u001B[39;00m, hue\u001B[38;5;241m=\u001B[39m\u001B[38;5;28;01mNone\u001B[39;00m, order\u001B[38;5;241m=\u001B[39m\u001B[38;5;28;01mNone\u001B[39;00m, hue_order\u001B[38;5;241m=\u001B[39m\u001B[38;5;28;01mNone\u001B[39;00m,\n\u001B[0;32m   2299\u001B[0m     bw\u001B[38;5;241m=\u001B[39m\u001B[38;5;124m\"\u001B[39m\u001B[38;5;124mscott\u001B[39m\u001B[38;5;124m\"\u001B[39m, cut\u001B[38;5;241m=\u001B[39m\u001B[38;5;241m2\u001B[39m, scale\u001B[38;5;241m=\u001B[39m\u001B[38;5;124m\"\u001B[39m\u001B[38;5;124marea\u001B[39m\u001B[38;5;124m\"\u001B[39m, scale_hue\u001B[38;5;241m=\u001B[39m\u001B[38;5;28;01mTrue\u001B[39;00m, gridsize\u001B[38;5;241m=\u001B[39m\u001B[38;5;241m100\u001B[39m,\n\u001B[1;32m   (...)\u001B[0m\n\u001B[0;32m   2302\u001B[0m     ax\u001B[38;5;241m=\u001B[39m\u001B[38;5;28;01mNone\u001B[39;00m, \u001B[38;5;241m*\u001B[39m\u001B[38;5;241m*\u001B[39mkwargs,\n\u001B[0;32m   2303\u001B[0m ):\n\u001B[1;32m-> 2305\u001B[0m     plotter \u001B[38;5;241m=\u001B[39m \u001B[43m_ViolinPlotter\u001B[49m\u001B[43m(\u001B[49m\u001B[43mx\u001B[49m\u001B[43m,\u001B[49m\u001B[43m \u001B[49m\u001B[43my\u001B[49m\u001B[43m,\u001B[49m\u001B[43m \u001B[49m\u001B[43mhue\u001B[49m\u001B[43m,\u001B[49m\u001B[43m \u001B[49m\u001B[43mdata\u001B[49m\u001B[43m,\u001B[49m\u001B[43m \u001B[49m\u001B[43morder\u001B[49m\u001B[43m,\u001B[49m\u001B[43m \u001B[49m\u001B[43mhue_order\u001B[49m\u001B[43m,\u001B[49m\n\u001B[0;32m   2306\u001B[0m \u001B[43m                             \u001B[49m\u001B[43mbw\u001B[49m\u001B[43m,\u001B[49m\u001B[43m \u001B[49m\u001B[43mcut\u001B[49m\u001B[43m,\u001B[49m\u001B[43m \u001B[49m\u001B[43mscale\u001B[49m\u001B[43m,\u001B[49m\u001B[43m \u001B[49m\u001B[43mscale_hue\u001B[49m\u001B[43m,\u001B[49m\u001B[43m \u001B[49m\u001B[43mgridsize\u001B[49m\u001B[43m,\u001B[49m\n\u001B[0;32m   2307\u001B[0m \u001B[43m                             \u001B[49m\u001B[43mwidth\u001B[49m\u001B[43m,\u001B[49m\u001B[43m \u001B[49m\u001B[43minner\u001B[49m\u001B[43m,\u001B[49m\u001B[43m \u001B[49m\u001B[43msplit\u001B[49m\u001B[43m,\u001B[49m\u001B[43m \u001B[49m\u001B[43mdodge\u001B[49m\u001B[43m,\u001B[49m\u001B[43m \u001B[49m\u001B[43morient\u001B[49m\u001B[43m,\u001B[49m\u001B[43m \u001B[49m\u001B[43mlinewidth\u001B[49m\u001B[43m,\u001B[49m\n\u001B[0;32m   2308\u001B[0m \u001B[43m                             \u001B[49m\u001B[43mcolor\u001B[49m\u001B[43m,\u001B[49m\u001B[43m \u001B[49m\u001B[43mpalette\u001B[49m\u001B[43m,\u001B[49m\u001B[43m \u001B[49m\u001B[43msaturation\u001B[49m\u001B[43m)\u001B[49m\n\u001B[0;32m   2310\u001B[0m     \u001B[38;5;28;01mif\u001B[39;00m ax \u001B[38;5;129;01mis\u001B[39;00m \u001B[38;5;28;01mNone\u001B[39;00m:\n\u001B[0;32m   2311\u001B[0m         ax \u001B[38;5;241m=\u001B[39m plt\u001B[38;5;241m.\u001B[39mgca()\n",
      "File \u001B[1;32mC:\\workplace\\SW_academy\\project1\\venv\\lib\\site-packages\\seaborn\\categorical.py:902\u001B[0m, in \u001B[0;36m_ViolinPlotter.__init__\u001B[1;34m(self, x, y, hue, data, order, hue_order, bw, cut, scale, scale_hue, gridsize, width, inner, split, dodge, orient, linewidth, color, palette, saturation)\u001B[0m\n\u001B[0;32m    896\u001B[0m \u001B[38;5;28;01mdef\u001B[39;00m \u001B[38;5;21m__init__\u001B[39m(\u001B[38;5;28mself\u001B[39m, x, y, hue, data, order, hue_order,\n\u001B[0;32m    897\u001B[0m              bw, cut, scale, scale_hue, gridsize,\n\u001B[0;32m    898\u001B[0m              width, inner, split, dodge, orient, linewidth,\n\u001B[0;32m    899\u001B[0m              color, palette, saturation):\n\u001B[0;32m    901\u001B[0m     \u001B[38;5;28mself\u001B[39m\u001B[38;5;241m.\u001B[39mestablish_variables(x, y, hue, data, orient, order, hue_order)\n\u001B[1;32m--> 902\u001B[0m     \u001B[38;5;28;43mself\u001B[39;49m\u001B[38;5;241;43m.\u001B[39;49m\u001B[43mestablish_colors\u001B[49m\u001B[43m(\u001B[49m\u001B[43mcolor\u001B[49m\u001B[43m,\u001B[49m\u001B[43m \u001B[49m\u001B[43mpalette\u001B[49m\u001B[43m,\u001B[49m\u001B[43m \u001B[49m\u001B[43msaturation\u001B[49m\u001B[43m)\u001B[49m\n\u001B[0;32m    903\u001B[0m     \u001B[38;5;28mself\u001B[39m\u001B[38;5;241m.\u001B[39mestimate_densities(bw, cut, scale, scale_hue, gridsize)\n\u001B[0;32m    905\u001B[0m     \u001B[38;5;28mself\u001B[39m\u001B[38;5;241m.\u001B[39mgridsize \u001B[38;5;241m=\u001B[39m gridsize\n",
      "File \u001B[1;32mC:\\workplace\\SW_academy\\project1\\venv\\lib\\site-packages\\seaborn\\categorical.py:707\u001B[0m, in \u001B[0;36m_CategoricalPlotter.establish_colors\u001B[1;34m(self, color, palette, saturation)\u001B[0m\n\u001B[0;32m    705\u001B[0m \u001B[38;5;66;03m# Determine the gray color to use for the lines framing the plot\u001B[39;00m\n\u001B[0;32m    706\u001B[0m light_vals \u001B[38;5;241m=\u001B[39m [rgb_to_hls(\u001B[38;5;241m*\u001B[39mc)[\u001B[38;5;241m1\u001B[39m] \u001B[38;5;28;01mfor\u001B[39;00m c \u001B[38;5;129;01min\u001B[39;00m rgb_colors]\n\u001B[1;32m--> 707\u001B[0m lum \u001B[38;5;241m=\u001B[39m \u001B[38;5;28;43mmin\u001B[39;49m\u001B[43m(\u001B[49m\u001B[43mlight_vals\u001B[49m\u001B[43m)\u001B[49m \u001B[38;5;241m*\u001B[39m \u001B[38;5;241m.6\u001B[39m\n\u001B[0;32m    708\u001B[0m gray \u001B[38;5;241m=\u001B[39m mpl\u001B[38;5;241m.\u001B[39mcolors\u001B[38;5;241m.\u001B[39mrgb2hex((lum, lum, lum))\n\u001B[0;32m    710\u001B[0m \u001B[38;5;66;03m# Assign object attributes\u001B[39;00m\n",
      "\u001B[1;31mValueError\u001B[0m: min() arg is an empty sequence"
     ]
    }
   ],
   "source": [
    "sns.violinplot(bl_dict)"
   ],
   "metadata": {
    "collapsed": false,
    "pycharm": {
     "name": "#%%\n"
    }
   }
  },
  {
   "cell_type": "code",
   "execution_count": 1,
   "outputs": [
    {
     "data": {
      "text/plain": "3"
     },
     "execution_count": 1,
     "metadata": {},
     "output_type": "execute_result"
    }
   ],
   "source": [
    "int(3.2)"
   ],
   "metadata": {
    "collapsed": false,
    "pycharm": {
     "name": "#%%\n"
    }
   }
  },
  {
   "cell_type": "code",
   "execution_count": null,
   "outputs": [],
   "source": [],
   "metadata": {
    "collapsed": false,
    "pycharm": {
     "name": "#%%\n"
    }
   }
  }
 ],
 "metadata": {
  "kernelspec": {
   "display_name": "Python 3",
   "language": "python",
   "name": "python3"
  },
  "language_info": {
   "codemirror_mode": {
    "name": "ipython",
    "version": 2
   },
   "file_extension": ".py",
   "mimetype": "text/x-python",
   "name": "python",
   "nbconvert_exporter": "python",
   "pygments_lexer": "ipython2",
   "version": "2.7.6"
  }
 },
 "nbformat": 4,
 "nbformat_minor": 0
}