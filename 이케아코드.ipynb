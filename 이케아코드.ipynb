{
 "cells": [
  {
   "cell_type": "code",
   "execution_count": 1,
   "id": "cfd51fc0",
   "metadata": {},
   "outputs": [],
   "source": [
    "from urllib.request import urlopen\n",
    "from bs4 import BeautifulSoup\n",
    "import pandas as pd\n",
    "from urllib.parse import quote_plus\n",
    "from PIL import Image"
   ]
  },
  {
   "cell_type": "code",
   "execution_count": null,
   "id": "9dc0ece8",
   "metadata": {},
   "outputs": [],
   "source": [
    "base_url = 'https://www.ikea.com/kr/ko/cat/chairs-fu002/?page=1'\n",
    "keyword = input(\"검색입력 :\")\n",
    "imgCnt = int(input('스크랩 할 이미지 개수: '))\n",
    "\n",
    "try:\n",
    "    html = urlopen(base_url+quote_plus(keyword))\n",
    "except HTTPError as he:\n",
    "    print('http error')\n",
    "except URLError as us:\n",
    "    print('url error')\n",
    "else:\n",
    "    soup = BeautifulSoup(html.read(), 'html.parser')"
   ]
  },
  {
   "cell_type": "code",
   "execution_count": null,
   "id": "5234630d",
   "metadata": {},
   "outputs": [],
   "source": [
    "img = soup.find_all('img', 'pip-image')"
   ]
  },
  {
   "cell_type": "code",
   "execution_count": null,
   "id": "91750210",
   "metadata": {},
   "outputs": [],
   "source": [
    "cnt =1\n",
    "for i in img:\n",
    "    imgUrl = i[\"src\"]\n",
    "    #print(imgUrl)\n",
    "    with urlopen(imgUrl) as file:\n",
    "        with open('이케아'+str(cnt)+'.jpg','wb')as imgFile:\n",
    "            img = file.read()\n",
    "            imgFile.write(img)\n",
    "    cnt+=1\n",
    "    if cnt>imgCnt:\n",
    "        break\n",
    "print('image download success')"
   ]
  },
  {
   "cell_type": "raw",
   "id": "184ad156",
   "metadata": {},
   "source": []
  }
 ],
 "metadata": {
  "kernelspec": {
   "display_name": "Python 3 (ipykernel)",
   "language": "python",
   "name": "python3"
  },
  "language_info": {
   "codemirror_mode": {
    "name": "ipython",
    "version": 3
   },
   "file_extension": ".py",
   "mimetype": "text/x-python",
   "name": "python",
   "nbconvert_exporter": "python",
   "pygments_lexer": "ipython3",
   "version": "3.9.12"
  }
 },
 "nbformat": 4,
 "nbformat_minor": 5
}
